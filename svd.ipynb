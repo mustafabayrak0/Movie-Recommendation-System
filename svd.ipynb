{
 "cells": [
  {
   "cell_type": "code",
   "execution_count": 1,
   "metadata": {},
   "outputs": [],
   "source": [
    "# pip install scikit-surprise"
   ]
  },
  {
   "cell_type": "code",
   "execution_count": 2,
   "metadata": {},
   "outputs": [
    {
     "name": "stdout",
     "output_type": "stream",
     "text": [
      "RMSE: 0.8646\n",
      "MAE:  0.6647\n",
      "MSE: 0.7476\n",
      "RMSE: 0.864638753012212, MAE: 0.6646699284428099\n"
     ]
    }
   ],
   "source": [
    "import pandas as pd\n",
    "from surprise import Dataset\n",
    "from surprise import SVD\n",
    "from surprise.model_selection import cross_validate\n",
    "from surprise import Reader\n",
    "from surprise.model_selection import train_test_split\n",
    "from surprise import accuracy\n",
    "\n",
    "# Define the rating scale (here, assuming ratings are from 1 to 5)\n",
    "reader = Reader(rating_scale=(1, 5))\n",
    "\n",
    "# Assuming you have loaded ratings data\n",
    "ratings = pd.read_csv(\"ml-latest-small/ratings.csv\")\n",
    "\n",
    "data = Dataset.load_from_df(ratings[['userId', 'movieId', 'rating']], reader)\n",
    "\n",
    "# Train-test split\n",
    "trainset, testset = train_test_split(data, test_size=0.2)  # 80-20 split\n",
    "\n",
    "# Initialize and train the SVD algorithm\n",
    "svd = SVD()\n",
    "svd.fit(trainset)\n",
    "\n",
    "# Make predictions on the test set\n",
    "predictions = svd.test(testset)\n",
    "\n",
    "# Evaluate predictions (for example, using RMSE)\n",
    "rmse = accuracy.rmse(predictions)\n",
    "mae = accuracy.mae(predictions)\n",
    "mse = accuracy.mse(predictions)\n",
    "print(f\"RMSE: {rmse}, MAE: {mae}\")"
   ]
  },
  {
   "cell_type": "code",
   "execution_count": 5,
   "metadata": {},
   "outputs": [
    {
     "name": "stdout",
     "output_type": "stream",
     "text": [
      "Top recommendations for User 1:\n",
      "Movie: Shawshank Redemption, The (1994) (Predicted Rating: 5)\n",
      "Movie: Dark Knight, The (2008) (Predicted Rating: 5)\n",
      "Movie: Patton (1970) (Predicted Rating: 5)\n",
      "Movie: Rear Window (1954) (Predicted Rating: 5)\n",
      "Movie: Brazil (1985) (Predicted Rating: 5)\n",
      "Movie: Unforgiven (1992) (Predicted Rating: 5)\n",
      "Movie: Dr. Strangelove or: How I Learned to Stop Worrying and Love the Bomb (1964) (Predicted Rating: 5)\n",
      "Movie: Lord of the Rings: The Fellowship of the Ring, The (2001) (Predicted Rating: 5)\n",
      "Movie: Spirited Away (Sen to Chihiro no kamikakushi) (2001) (Predicted Rating: 5)\n",
      "Movie: Blade Runner (1982) (Predicted Rating: 5)\n",
      "\n",
      "\n",
      "Top recommendations for User 100:\n",
      "Movie: One Flew Over the Cuckoo's Nest (1975) (Predicted Rating: 4.920291309273331)\n",
      "Movie: Life Is Beautiful (La Vita è bella) (1997) (Predicted Rating: 4.909970723267833)\n",
      "Movie: Shawshank Redemption, The (1994) (Predicted Rating: 4.75639496160461)\n",
      "Movie: Chinatown (1974) (Predicted Rating: 4.756010288978329)\n",
      "Movie: Great Escape, The (1963) (Predicted Rating: 4.751363408231021)\n",
      "Movie: Lawrence of Arabia (1962) (Predicted Rating: 4.743133271158406)\n",
      "Movie: Casablanca (1942) (Predicted Rating: 4.734884062622844)\n",
      "Movie: Good Will Hunting (1997) (Predicted Rating: 4.720951187498313)\n",
      "Movie: Grand Day Out with Wallace and Gromit, A (1989) (Predicted Rating: 4.720812404227663)\n",
      "Movie: Shining, The (1980) (Predicted Rating: 4.7135473894481255)\n",
      "\n",
      "\n",
      "Top recommendations for User 200:\n",
      "Movie: Life Is Beautiful (La Vita è bella) (1997) (Predicted Rating: 4.635140016682931)\n",
      "Movie: Lawrence of Arabia (1962) (Predicted Rating: 4.633776622009938)\n",
      "Movie: City of God (Cidade de Deus) (2002) (Predicted Rating: 4.5955493286318845)\n",
      "Movie: Thank You for Smoking (2006) (Predicted Rating: 4.58520844693744)\n",
      "Movie: Road Warrior, The (Mad Max 2) (1981) (Predicted Rating: 4.5393788944492)\n",
      "Movie: Casablanca (1942) (Predicted Rating: 4.533571492649232)\n",
      "Movie: Grand Day Out with Wallace and Gromit, A (1989) (Predicted Rating: 4.516257906839318)\n",
      "Movie: Pianist, The (2002) (Predicted Rating: 4.511499169746784)\n",
      "Movie: Dr. Strangelove or: How I Learned to Stop Worrying and Love the Bomb (1964) (Predicted Rating: 4.501771202597738)\n",
      "Movie: Touch of Evil (1958) (Predicted Rating: 4.499909292821279)\n",
      "\n",
      "\n"
     ]
    }
   ],
   "source": [
    "movies = pd.read_csv(\"ml-latest-small/movies.csv\")\n",
    "\n",
    "# Get a list of unique user IDs from your dataset\n",
    "user_ids = ratings['userId'].unique()\n",
    "\n",
    "# Select a few sample user IDs for whom you want recommendations\n",
    "sample_users = [1, 100, 200]  # Replace these with actual user IDs from your dataset\n",
    "\n",
    "for user_id in sample_users:\n",
    "    # Generate top N recommendations for the user\n",
    "    user_recommendations = []\n",
    "    items_to_ignore = ratings[ratings['userId'] == user_id]['movieId'].tolist()\n",
    "    for movie_id in ratings['movieId'].unique():\n",
    "        if movie_id not in items_to_ignore:\n",
    "            predicted_rating = svd.predict(user_id, movie_id).est\n",
    "            user_recommendations.append((movie_id, predicted_rating))\n",
    "    \n",
    "    # Sort recommendations by predicted rating in descending order\n",
    "    user_recommendations.sort(key=lambda x: x[1], reverse=True)\n",
    "    \n",
    "    # Display top N recommendations for the user\n",
    "    print(f\"Top recommendations for User {user_id}:\")\n",
    "    for movie_id, predicted_rating in user_recommendations[:10]:\n",
    "        movie_title = movies[movies['movieId'] == movie_id]['title'].values[0]\n",
    "        print(f\"Movie: {movie_title} (Predicted Rating: {predicted_rating})\")\n",
    "    print(\"\\n\")\n"
   ]
  }
 ],
 "metadata": {
  "kernelspec": {
   "display_name": "mining_project",
   "language": "python",
   "name": "python3"
  },
  "language_info": {
   "codemirror_mode": {
    "name": "ipython",
    "version": 3
   },
   "file_extension": ".py",
   "mimetype": "text/x-python",
   "name": "python",
   "nbconvert_exporter": "python",
   "pygments_lexer": "ipython3",
   "version": "3.11.5"
  }
 },
 "nbformat": 4,
 "nbformat_minor": 2
}
