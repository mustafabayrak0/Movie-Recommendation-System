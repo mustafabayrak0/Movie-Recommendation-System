{
 "cells": [
  {
   "cell_type": "code",
   "execution_count": 10,
   "id": "135c5581-7aed-41e8-be06-340d1846aa7e",
   "metadata": {},
   "outputs": [],
   "source": [
    "import pandas as pd\n",
    "import numpy as np\n",
    "import random\n",
    "import re\n",
    "import pandas as pd\n",
    "from sklearn.preprocessing import MultiLabelBinarizer\n",
    "from mlxtend.frequent_patterns import apriori, association_rules"
   ]
  },
  {
   "cell_type": "markdown",
   "id": "b0049d19-7f83-498d-ab97-c6513640fe51",
   "metadata": {},
   "source": [
    "# Preparing The Data"
   ]
  },
  {
   "cell_type": "code",
   "execution_count": 4,
   "id": "1e6a86fe-4c74-4230-9b4c-3bcd37476412",
   "metadata": {},
   "outputs": [],
   "source": [
    "data= pd.read_csv('../ml-25m/movies.csv')"
   ]
  },
  {
   "cell_type": "code",
   "execution_count": 5,
   "id": "36adec86-88f5-48e9-be24-e1ebd9188d08",
   "metadata": {},
   "outputs": [],
   "source": [
    "ratings_data=pd.read_csv('../ml-25m/ratings.csv',sep=',')"
   ]
  },
  {
   "cell_type": "code",
   "execution_count": 6,
   "id": "fe95a981-2519-4f33-b3c4-bb8af6f71e2c",
   "metadata": {},
   "outputs": [],
   "source": [
    "movie_data_ratings_data=data.merge(ratings_data,on = 'movieId', how='inner')"
   ]
  },
  {
   "cell_type": "code",
   "execution_count": 7,
   "id": "5e7e5aed-759d-439d-b8c7-6385fe2d87bc",
   "metadata": {},
   "outputs": [],
   "source": [
    "# Group movies_data_ratings_data by userId and create a new column called watched_movies which contains name of all movies watched by the user\n",
    "movie_data_ratings_data_grouped_by_userId = movie_data_ratings_data.groupby(\"userId\")\n",
    "movie_data_ratings_data_grouped_by_userId = movie_data_ratings_data_grouped_by_userId[\"title\"].apply(list).reset_index(name=\"watched_movies\")\n",
    "movie_data_ratings_data_grouped_by_userId.head()\n",
    "# Create a new dataframe which contains encoded watched_movies column\n",
    "from sklearn.preprocessing import MultiLabelBinarizer\n",
    "mlb = MultiLabelBinarizer()\n",
    "movie_data_ratings_data_grouped_by_userId = movie_data_ratings_data_grouped_by_userId.iloc[:1000] # to reduce the size of dataframe to 1000 rows\n",
    "movie_data_ratings_data_encoded = movie_data_ratings_data_grouped_by_userId.join(pd.DataFrame(mlb.fit_transform(movie_data_ratings_data_grouped_by_userId.pop('watched_movies')),\n",
    "                          columns=mlb.classes_,\n",
    "                          index=movie_data_ratings_data_grouped_by_userId.index))"
   ]
  },
  {
   "cell_type": "markdown",
   "id": "4a8274bc-7be0-4087-a7f7-e4fc89a991db",
   "metadata": {},
   "source": [
    "# Apriori\n"
   ]
  },
  {
   "cell_type": "code",
   "execution_count": 8,
   "id": "1b96e623-226e-40c1-add0-710519347b73",
   "metadata": {},
   "outputs": [],
   "source": [
    "min_support = 0.1"
   ]
  },
  {
   "cell_type": "code",
   "execution_count": 11,
   "id": "d170725b-5cb9-47b0-8a58-46062551bf28",
   "metadata": {},
   "outputs": [
    {
     "name": "stderr",
     "output_type": "stream",
     "text": [
      "C:\\Users\\mbber\\AppData\\Local\\Packages\\PythonSoftwareFoundation.Python.3.10_qbz5n2kfra8p0\\LocalCache\\local-packages\\Python310\\site-packages\\mlxtend\\frequent_patterns\\fpcommon.py:110: DeprecationWarning: DataFrames with non-bool types result in worse computationalperformance and their support might be discontinued in the future.Please use a DataFrame with bool type\n",
      "  warnings.warn(\n"
     ]
    }
   ],
   "source": [
    "sampled_data = movie_data_ratings_data_grouped_by_userId.sample(frac=0.25, random_state=42)\n",
    "frequent_itemsets = apriori(movie_data_ratings_data_encoded.drop(columns=[\"userId\"]), min_support=min_support, use_colnames=True)"
   ]
  },
  {
   "cell_type": "code",
   "execution_count": 12,
   "id": "ceeef6b9-a5fb-407a-8dae-63f276f4c79a",
   "metadata": {},
   "outputs": [],
   "source": [
    "rules = association_rules(frequent_itemsets, metric=\"confidence\", min_threshold=0.7)"
   ]
  },
  {
   "cell_type": "code",
   "execution_count": 13,
   "id": "a85ad5fb-03b6-4db0-8d71-af3d10636ea4",
   "metadata": {},
   "outputs": [
    {
     "data": {
      "text/html": [
       "<div>\n",
       "<style scoped>\n",
       "    .dataframe tbody tr th:only-of-type {\n",
       "        vertical-align: middle;\n",
       "    }\n",
       "\n",
       "    .dataframe tbody tr th {\n",
       "        vertical-align: top;\n",
       "    }\n",
       "\n",
       "    .dataframe thead th {\n",
       "        text-align: right;\n",
       "    }\n",
       "</style>\n",
       "<table border=\"1\" class=\"dataframe\">\n",
       "  <thead>\n",
       "    <tr style=\"text-align: right;\">\n",
       "      <th></th>\n",
       "      <th>antecedents</th>\n",
       "      <th>consequents</th>\n",
       "      <th>antecedent support</th>\n",
       "      <th>consequent support</th>\n",
       "      <th>support</th>\n",
       "      <th>confidence</th>\n",
       "      <th>lift</th>\n",
       "      <th>leverage</th>\n",
       "      <th>conviction</th>\n",
       "      <th>zhangs_metric</th>\n",
       "    </tr>\n",
       "  </thead>\n",
       "  <tbody>\n",
       "    <tr>\n",
       "      <th>0</th>\n",
       "      <td>(2001: A Space Odyssey (1968))</td>\n",
       "      <td>(Blade Runner (1982))</td>\n",
       "      <td>0.152</td>\n",
       "      <td>0.214</td>\n",
       "      <td>0.107</td>\n",
       "      <td>0.703947</td>\n",
       "      <td>3.289474</td>\n",
       "      <td>0.074472</td>\n",
       "      <td>2.654933</td>\n",
       "      <td>0.820755</td>\n",
       "    </tr>\n",
       "    <tr>\n",
       "      <th>1</th>\n",
       "      <td>(2001: A Space Odyssey (1968))</td>\n",
       "      <td>(Matrix, The (1999))</td>\n",
       "      <td>0.152</td>\n",
       "      <td>0.424</td>\n",
       "      <td>0.109</td>\n",
       "      <td>0.717105</td>\n",
       "      <td>1.691286</td>\n",
       "      <td>0.044552</td>\n",
       "      <td>2.036093</td>\n",
       "      <td>0.481998</td>\n",
       "    </tr>\n",
       "    <tr>\n",
       "      <th>2</th>\n",
       "      <td>(2001: A Space Odyssey (1968))</td>\n",
       "      <td>(Pulp Fiction (1994))</td>\n",
       "      <td>0.152</td>\n",
       "      <td>0.477</td>\n",
       "      <td>0.110</td>\n",
       "      <td>0.723684</td>\n",
       "      <td>1.517158</td>\n",
       "      <td>0.037496</td>\n",
       "      <td>1.892762</td>\n",
       "      <td>0.401973</td>\n",
       "    </tr>\n",
       "    <tr>\n",
       "      <th>3</th>\n",
       "      <td>(2001: A Space Odyssey (1968))</td>\n",
       "      <td>(Star Wars: Episode IV - A New Hope (1977))</td>\n",
       "      <td>0.152</td>\n",
       "      <td>0.403</td>\n",
       "      <td>0.117</td>\n",
       "      <td>0.769737</td>\n",
       "      <td>1.910017</td>\n",
       "      <td>0.055744</td>\n",
       "      <td>2.592686</td>\n",
       "      <td>0.561845</td>\n",
       "    </tr>\n",
       "    <tr>\n",
       "      <th>4</th>\n",
       "      <td>(2001: A Space Odyssey (1968))</td>\n",
       "      <td>(Star Wars: Episode V - The Empire Strikes Bac...</td>\n",
       "      <td>0.152</td>\n",
       "      <td>0.343</td>\n",
       "      <td>0.122</td>\n",
       "      <td>0.802632</td>\n",
       "      <td>2.340034</td>\n",
       "      <td>0.069864</td>\n",
       "      <td>3.328800</td>\n",
       "      <td>0.675302</td>\n",
       "    </tr>\n",
       "  </tbody>\n",
       "</table>\n",
       "</div>"
      ],
      "text/plain": [
       "                      antecedents   \n",
       "0  (2001: A Space Odyssey (1968))  \\\n",
       "1  (2001: A Space Odyssey (1968))   \n",
       "2  (2001: A Space Odyssey (1968))   \n",
       "3  (2001: A Space Odyssey (1968))   \n",
       "4  (2001: A Space Odyssey (1968))   \n",
       "\n",
       "                                         consequents  antecedent support   \n",
       "0                              (Blade Runner (1982))               0.152  \\\n",
       "1                               (Matrix, The (1999))               0.152   \n",
       "2                              (Pulp Fiction (1994))               0.152   \n",
       "3        (Star Wars: Episode IV - A New Hope (1977))               0.152   \n",
       "4  (Star Wars: Episode V - The Empire Strikes Bac...               0.152   \n",
       "\n",
       "   consequent support  support  confidence      lift  leverage  conviction   \n",
       "0               0.214    0.107    0.703947  3.289474  0.074472    2.654933  \\\n",
       "1               0.424    0.109    0.717105  1.691286  0.044552    2.036093   \n",
       "2               0.477    0.110    0.723684  1.517158  0.037496    1.892762   \n",
       "3               0.403    0.117    0.769737  1.910017  0.055744    2.592686   \n",
       "4               0.343    0.122    0.802632  2.340034  0.069864    3.328800   \n",
       "\n",
       "   zhangs_metric  \n",
       "0       0.820755  \n",
       "1       0.481998  \n",
       "2       0.401973  \n",
       "3       0.561845  \n",
       "4       0.675302  "
      ]
     },
     "execution_count": 13,
     "metadata": {},
     "output_type": "execute_result"
    }
   ],
   "source": [
    "rules.head()"
   ]
  },
  {
   "cell_type": "code",
   "execution_count": 14,
   "id": "18828c50-d1fc-4d99-8fb0-506e953edbd9",
   "metadata": {},
   "outputs": [
    {
     "data": {
      "text/plain": [
       "0.7"
      ]
     },
     "execution_count": 14,
     "metadata": {},
     "output_type": "execute_result"
    }
   ],
   "source": [
    "rules[\"confidence\"].min()"
   ]
  },
  {
   "cell_type": "code",
   "execution_count": 16,
   "id": "487195cb-441c-4c4e-b103-8abc031e7e79",
   "metadata": {},
   "outputs": [],
   "source": [
    "random_sample = rules.sample()"
   ]
  },
  {
   "cell_type": "code",
   "execution_count": 17,
   "id": "1a1a2397-0c89-4a61-a3a1-a3ff7c71e20b",
   "metadata": {},
   "outputs": [
    {
     "name": "stdout",
     "output_type": "stream",
     "text": [
      "104059    (Silence of the Lambs, The (1991), Shawshank R...\n",
      "Name: antecedents, dtype: object\n"
     ]
    }
   ],
   "source": [
    "print(random_sample[\"antecedents\"])"
   ]
  },
  {
   "cell_type": "code",
   "execution_count": 18,
   "id": "d53a9bfc-964d-452f-bf33-b83b4315ab0e",
   "metadata": {},
   "outputs": [
    {
     "data": {
      "text/html": [
       "<div>\n",
       "<style scoped>\n",
       "    .dataframe tbody tr th:only-of-type {\n",
       "        vertical-align: middle;\n",
       "    }\n",
       "\n",
       "    .dataframe tbody tr th {\n",
       "        vertical-align: top;\n",
       "    }\n",
       "\n",
       "    .dataframe thead th {\n",
       "        text-align: right;\n",
       "    }\n",
       "</style>\n",
       "<table border=\"1\" class=\"dataframe\">\n",
       "  <thead>\n",
       "    <tr style=\"text-align: right;\">\n",
       "      <th></th>\n",
       "      <th>antecedents</th>\n",
       "      <th>consequents</th>\n",
       "      <th>antecedent support</th>\n",
       "      <th>consequent support</th>\n",
       "      <th>support</th>\n",
       "      <th>confidence</th>\n",
       "      <th>lift</th>\n",
       "      <th>leverage</th>\n",
       "      <th>conviction</th>\n",
       "      <th>zhangs_metric</th>\n",
       "    </tr>\n",
       "  </thead>\n",
       "  <tbody>\n",
       "    <tr>\n",
       "      <th>104059</th>\n",
       "      <td>(Silence of the Lambs, The (1991), Shawshank R...</td>\n",
       "      <td>(Matrix, The (1999))</td>\n",
       "      <td>0.111</td>\n",
       "      <td>0.424</td>\n",
       "      <td>0.102</td>\n",
       "      <td>0.918919</td>\n",
       "      <td>2.167262</td>\n",
       "      <td>0.054936</td>\n",
       "      <td>7.104</td>\n",
       "      <td>0.605836</td>\n",
       "    </tr>\n",
       "  </tbody>\n",
       "</table>\n",
       "</div>"
      ],
      "text/plain": [
       "                                              antecedents   \n",
       "104059  (Silence of the Lambs, The (1991), Shawshank R...  \\\n",
       "\n",
       "                 consequents  antecedent support  consequent support  support   \n",
       "104059  (Matrix, The (1999))               0.111               0.424    0.102  \\\n",
       "\n",
       "        confidence      lift  leverage  conviction  zhangs_metric  \n",
       "104059    0.918919  2.167262  0.054936       7.104       0.605836  "
      ]
     },
     "execution_count": 18,
     "metadata": {},
     "output_type": "execute_result"
    }
   ],
   "source": [
    "random_sample"
   ]
  },
  {
   "cell_type": "code",
   "execution_count": 19,
   "id": "c441f3ec-b9ea-4914-b51a-0dd7f3b1e97b",
   "metadata": {},
   "outputs": [
    {
     "name": "stderr",
     "output_type": "stream",
     "text": [
      "C:\\Users\\mbber\\AppData\\Local\\Packages\\PythonSoftwareFoundation.Python.3.10_qbz5n2kfra8p0\\LocalCache\\local-packages\\Python310\\site-packages\\mlxtend\\frequent_patterns\\fpcommon.py:110: DeprecationWarning: DataFrames with non-bool types result in worse computationalperformance and their support might be discontinued in the future.Please use a DataFrame with bool type\n",
      "  warnings.warn(\n"
     ]
    }
   ],
   "source": [
    "# Generate frequent itemsets for different sizes (e.g., 3, 4, 5, 6)\n",
    "frequent_itemsets_3 = apriori(movie_data_ratings_data_encoded.drop(columns=[\"userId\"]), min_support=min_support, use_colnames=True, max_len=3)\n",
    "rules_3 = association_rules(frequent_itemsets_3, metric=\"confidence\", min_threshold=0.7)"
   ]
  },
  {
   "cell_type": "code",
   "execution_count": 20,
   "id": "d7ba5c8d-b65f-47b6-9544-818f05a37d3c",
   "metadata": {},
   "outputs": [
    {
     "name": "stderr",
     "output_type": "stream",
     "text": [
      "C:\\Users\\mbber\\AppData\\Local\\Packages\\PythonSoftwareFoundation.Python.3.10_qbz5n2kfra8p0\\LocalCache\\local-packages\\Python310\\site-packages\\mlxtend\\frequent_patterns\\fpcommon.py:110: DeprecationWarning: DataFrames with non-bool types result in worse computationalperformance and their support might be discontinued in the future.Please use a DataFrame with bool type\n",
      "  warnings.warn(\n"
     ]
    }
   ],
   "source": [
    "frequent_itemsets_4 = apriori(movie_data_ratings_data_encoded.drop(columns=[\"userId\"]), min_support=min_support, use_colnames=True, max_len=4)\n",
    "rules_4 = association_rules(frequent_itemsets_4, metric=\"confidence\", min_threshold=0.7)"
   ]
  },
  {
   "cell_type": "code",
   "execution_count": 22,
   "id": "8f8f7c78-01d0-48a7-b822-eab5ac8e400d",
   "metadata": {},
   "outputs": [
    {
     "name": "stderr",
     "output_type": "stream",
     "text": [
      "C:\\Users\\mbber\\AppData\\Local\\Packages\\PythonSoftwareFoundation.Python.3.10_qbz5n2kfra8p0\\LocalCache\\local-packages\\Python310\\site-packages\\mlxtend\\frequent_patterns\\fpcommon.py:110: DeprecationWarning: DataFrames with non-bool types result in worse computationalperformance and their support might be discontinued in the future.Please use a DataFrame with bool type\n",
      "  warnings.warn(\n"
     ]
    }
   ],
   "source": [
    "frequent_itemsets_5 = apriori(movie_data_ratings_data_encoded.drop(columns=[\"userId\"]), min_support=min_support, use_colnames=True, max_len=5)\n",
    "rules_5 = association_rules(frequent_itemsets_5, metric=\"confidence\", min_threshold=0.7)"
   ]
  },
  {
   "cell_type": "code",
   "execution_count": 23,
   "id": "ca0ec6c5-2ef7-410f-8251-24b5710f6861",
   "metadata": {},
   "outputs": [
    {
     "name": "stderr",
     "output_type": "stream",
     "text": [
      "C:\\Users\\mbber\\AppData\\Local\\Packages\\PythonSoftwareFoundation.Python.3.10_qbz5n2kfra8p0\\LocalCache\\local-packages\\Python310\\site-packages\\mlxtend\\frequent_patterns\\fpcommon.py:110: DeprecationWarning: DataFrames with non-bool types result in worse computationalperformance and their support might be discontinued in the future.Please use a DataFrame with bool type\n",
      "  warnings.warn(\n"
     ]
    }
   ],
   "source": [
    "frequent_itemsets_6 = apriori(movie_data_ratings_data_encoded.drop(columns=[\"userId\"]), min_support=min_support, use_colnames=True, max_len=6)\n",
    "rules_6 = association_rules(frequent_itemsets_6, metric=\"confidence\", min_threshold=0.7)"
   ]
  },
  {
   "cell_type": "code",
   "execution_count": 24,
   "id": "7d961dd9-e346-48dd-9ab3-2fa4991b451e",
   "metadata": {},
   "outputs": [
    {
     "data": {
      "text/html": [
       "<div>\n",
       "<style scoped>\n",
       "    .dataframe tbody tr th:only-of-type {\n",
       "        vertical-align: middle;\n",
       "    }\n",
       "\n",
       "    .dataframe tbody tr th {\n",
       "        vertical-align: top;\n",
       "    }\n",
       "\n",
       "    .dataframe thead th {\n",
       "        text-align: right;\n",
       "    }\n",
       "</style>\n",
       "<table border=\"1\" class=\"dataframe\">\n",
       "  <thead>\n",
       "    <tr style=\"text-align: right;\">\n",
       "      <th></th>\n",
       "      <th>antecedents</th>\n",
       "      <th>consequents</th>\n",
       "      <th>antecedent support</th>\n",
       "      <th>consequent support</th>\n",
       "      <th>support</th>\n",
       "      <th>confidence</th>\n",
       "      <th>lift</th>\n",
       "      <th>leverage</th>\n",
       "      <th>conviction</th>\n",
       "      <th>zhangs_metric</th>\n",
       "    </tr>\n",
       "  </thead>\n",
       "  <tbody>\n",
       "    <tr>\n",
       "      <th>9051</th>\n",
       "      <td>(Pretty Woman (1990), Forrest Gump (1994))</td>\n",
       "      <td>(Silence of the Lambs, The (1991))</td>\n",
       "      <td>0.191</td>\n",
       "      <td>0.441</td>\n",
       "      <td>0.135</td>\n",
       "      <td>0.706806</td>\n",
       "      <td>1.602735</td>\n",
       "      <td>0.050769</td>\n",
       "      <td>1.906589</td>\n",
       "      <td>0.464854</td>\n",
       "    </tr>\n",
       "  </tbody>\n",
       "</table>\n",
       "</div>"
      ],
      "text/plain": [
       "                                     antecedents   \n",
       "9051  (Pretty Woman (1990), Forrest Gump (1994))  \\\n",
       "\n",
       "                             consequents  antecedent support   \n",
       "9051  (Silence of the Lambs, The (1991))               0.191  \\\n",
       "\n",
       "      consequent support  support  confidence      lift  leverage  conviction   \n",
       "9051               0.441    0.135    0.706806  1.602735  0.050769    1.906589  \\\n",
       "\n",
       "      zhangs_metric  \n",
       "9051       0.464854  "
      ]
     },
     "execution_count": 24,
     "metadata": {},
     "output_type": "execute_result"
    }
   ],
   "source": [
    "rules_3.sample()"
   ]
  },
  {
   "cell_type": "code",
   "execution_count": 25,
   "id": "720d7218-7baf-4ac2-b244-f6132e0f8fcf",
   "metadata": {},
   "outputs": [
    {
     "data": {
      "text/html": [
       "<div>\n",
       "<style scoped>\n",
       "    .dataframe tbody tr th:only-of-type {\n",
       "        vertical-align: middle;\n",
       "    }\n",
       "\n",
       "    .dataframe tbody tr th {\n",
       "        vertical-align: top;\n",
       "    }\n",
       "\n",
       "    .dataframe thead th {\n",
       "        text-align: right;\n",
       "    }\n",
       "</style>\n",
       "<table border=\"1\" class=\"dataframe\">\n",
       "  <thead>\n",
       "    <tr style=\"text-align: right;\">\n",
       "      <th></th>\n",
       "      <th>antecedents</th>\n",
       "      <th>consequents</th>\n",
       "      <th>antecedent support</th>\n",
       "      <th>consequent support</th>\n",
       "      <th>support</th>\n",
       "      <th>confidence</th>\n",
       "      <th>lift</th>\n",
       "      <th>leverage</th>\n",
       "      <th>conviction</th>\n",
       "      <th>zhangs_metric</th>\n",
       "    </tr>\n",
       "  </thead>\n",
       "  <tbody>\n",
       "    <tr>\n",
       "      <th>36196</th>\n",
       "      <td>(Fight Club (1999), Star Wars: Episode VI - Re...</td>\n",
       "      <td>(Star Wars: Episode IV - A New Hope (1977), Lo...</td>\n",
       "      <td>0.143</td>\n",
       "      <td>0.198</td>\n",
       "      <td>0.101</td>\n",
       "      <td>0.706294</td>\n",
       "      <td>3.56714</td>\n",
       "      <td>0.072686</td>\n",
       "      <td>2.730619</td>\n",
       "      <td>0.839747</td>\n",
       "    </tr>\n",
       "  </tbody>\n",
       "</table>\n",
       "</div>"
      ],
      "text/plain": [
       "                                             antecedents   \n",
       "36196  (Fight Club (1999), Star Wars: Episode VI - Re...  \\\n",
       "\n",
       "                                             consequents  antecedent support   \n",
       "36196  (Star Wars: Episode IV - A New Hope (1977), Lo...               0.143  \\\n",
       "\n",
       "       consequent support  support  confidence     lift  leverage  conviction   \n",
       "36196               0.198    0.101    0.706294  3.56714  0.072686    2.730619  \\\n",
       "\n",
       "       zhangs_metric  \n",
       "36196       0.839747  "
      ]
     },
     "execution_count": 25,
     "metadata": {},
     "output_type": "execute_result"
    }
   ],
   "source": [
    "rules_4.sample()"
   ]
  },
  {
   "cell_type": "code",
   "execution_count": 26,
   "id": "31122c97-be66-4070-9dfb-0df999d7bafb",
   "metadata": {},
   "outputs": [
    {
     "data": {
      "text/html": [
       "<div>\n",
       "<style scoped>\n",
       "    .dataframe tbody tr th:only-of-type {\n",
       "        vertical-align: middle;\n",
       "    }\n",
       "\n",
       "    .dataframe tbody tr th {\n",
       "        vertical-align: top;\n",
       "    }\n",
       "\n",
       "    .dataframe thead th {\n",
       "        text-align: right;\n",
       "    }\n",
       "</style>\n",
       "<table border=\"1\" class=\"dataframe\">\n",
       "  <thead>\n",
       "    <tr style=\"text-align: right;\">\n",
       "      <th></th>\n",
       "      <th>antecedents</th>\n",
       "      <th>consequents</th>\n",
       "      <th>antecedent support</th>\n",
       "      <th>consequent support</th>\n",
       "      <th>support</th>\n",
       "      <th>confidence</th>\n",
       "      <th>lift</th>\n",
       "      <th>leverage</th>\n",
       "      <th>conviction</th>\n",
       "      <th>zhangs_metric</th>\n",
       "    </tr>\n",
       "  </thead>\n",
       "  <tbody>\n",
       "    <tr>\n",
       "      <th>21084</th>\n",
       "      <td>(Apollo 13 (1995), Terminator 2: Judgment Day ...</td>\n",
       "      <td>(Jurassic Park (1993))</td>\n",
       "      <td>0.136</td>\n",
       "      <td>0.4</td>\n",
       "      <td>0.128</td>\n",
       "      <td>0.941176</td>\n",
       "      <td>2.352941</td>\n",
       "      <td>0.0736</td>\n",
       "      <td>10.2</td>\n",
       "      <td>0.665509</td>\n",
       "    </tr>\n",
       "  </tbody>\n",
       "</table>\n",
       "</div>"
      ],
      "text/plain": [
       "                                             antecedents   \n",
       "21084  (Apollo 13 (1995), Terminator 2: Judgment Day ...  \\\n",
       "\n",
       "                  consequents  antecedent support  consequent support   \n",
       "21084  (Jurassic Park (1993))               0.136                 0.4  \\\n",
       "\n",
       "       support  confidence      lift  leverage  conviction  zhangs_metric  \n",
       "21084    0.128    0.941176  2.352941    0.0736        10.2       0.665509  "
      ]
     },
     "execution_count": 26,
     "metadata": {},
     "output_type": "execute_result"
    }
   ],
   "source": [
    "rules_5.sample()"
   ]
  },
  {
   "cell_type": "code",
   "execution_count": 27,
   "id": "004ed8cc-faa0-4ed8-a606-bf47afdd2908",
   "metadata": {},
   "outputs": [
    {
     "data": {
      "text/html": [
       "<div>\n",
       "<style scoped>\n",
       "    .dataframe tbody tr th:only-of-type {\n",
       "        vertical-align: middle;\n",
       "    }\n",
       "\n",
       "    .dataframe tbody tr th {\n",
       "        vertical-align: top;\n",
       "    }\n",
       "\n",
       "    .dataframe thead th {\n",
       "        text-align: right;\n",
       "    }\n",
       "</style>\n",
       "<table border=\"1\" class=\"dataframe\">\n",
       "  <thead>\n",
       "    <tr style=\"text-align: right;\">\n",
       "      <th></th>\n",
       "      <th>antecedents</th>\n",
       "      <th>consequents</th>\n",
       "      <th>antecedent support</th>\n",
       "      <th>consequent support</th>\n",
       "      <th>support</th>\n",
       "      <th>confidence</th>\n",
       "      <th>lift</th>\n",
       "      <th>leverage</th>\n",
       "      <th>conviction</th>\n",
       "      <th>zhangs_metric</th>\n",
       "    </tr>\n",
       "  </thead>\n",
       "  <tbody>\n",
       "    <tr>\n",
       "      <th>92443</th>\n",
       "      <td>(Star Wars: Episode IV - A New Hope (1977), Te...</td>\n",
       "      <td>(Raiders of the Lost Ark (Indiana Jones and th...</td>\n",
       "      <td>0.144</td>\n",
       "      <td>0.198</td>\n",
       "      <td>0.107</td>\n",
       "      <td>0.743056</td>\n",
       "      <td>3.752806</td>\n",
       "      <td>0.078488</td>\n",
       "      <td>3.121297</td>\n",
       "      <td>0.856931</td>\n",
       "    </tr>\n",
       "  </tbody>\n",
       "</table>\n",
       "</div>"
      ],
      "text/plain": [
       "                                             antecedents   \n",
       "92443  (Star Wars: Episode IV - A New Hope (1977), Te...  \\\n",
       "\n",
       "                                             consequents  antecedent support   \n",
       "92443  (Raiders of the Lost Ark (Indiana Jones and th...               0.144  \\\n",
       "\n",
       "       consequent support  support  confidence      lift  leverage   \n",
       "92443               0.198    0.107    0.743056  3.752806  0.078488  \\\n",
       "\n",
       "       conviction  zhangs_metric  \n",
       "92443    3.121297       0.856931  "
      ]
     },
     "execution_count": 27,
     "metadata": {},
     "output_type": "execute_result"
    }
   ],
   "source": [
    "rules_6.sample()"
   ]
  },
  {
   "cell_type": "code",
   "execution_count": null,
   "id": "269c7a55-82c4-4098-8a82-8c17fe3d4029",
   "metadata": {},
   "outputs": [],
   "source": []
  }
 ],
 "metadata": {
  "kernelspec": {
   "display_name": "Python 3 (ipykernel)",
   "language": "python",
   "name": "python3"
  },
  "language_info": {
   "codemirror_mode": {
    "name": "ipython",
    "version": 3
   },
   "file_extension": ".py",
   "mimetype": "text/x-python",
   "name": "python",
   "nbconvert_exporter": "python",
   "pygments_lexer": "ipython3",
   "version": "3.10.11"
  }
 },
 "nbformat": 4,
 "nbformat_minor": 5
}
